{
 "cells": [
  {
   "cell_type": "markdown",
   "metadata": {},
   "source": [
    "## Random Forest Classifier"
   ]
  },
  {
   "cell_type": "code",
   "execution_count": 2,
   "metadata": {},
   "outputs": [],
   "source": [
    "import pandas as pd\n",
    "\n",
    "# Import data\n",
    "train = pd.read_csv(\"../data/train.csv\").sort_values('id')\n",
    "train_df = train.loc[:, train.columns != 'price']\n",
    "train_prices = train['price'].values\n",
    "\n",
    "test_df = pd.read_csv(\"../data/test.csv\").sort_values('id')"
   ]
  },
  {
   "cell_type": "code",
   "execution_count": 56,
   "metadata": {},
   "outputs": [],
   "source": [
    "from data_processing import preprocessing\n",
    "\n",
    "# Combine data for processing (important for one-hot encoding)\n",
    "combined_df = pd.concat([test_df, train_df], ignore_index=True)\n",
    "\n",
    "# Select which columns to include in the analysis\n",
    "selected_features = list(combined_df.columns)\n",
    "to_remove = ['id', 'scrape_id', 'last_scraped', 'name', 'description', \n",
    "             'picture_url', 'host_id', 'host_name', 'calendar_last_scraped',\n",
    "             'bathrooms_text']\n",
    "for col in to_remove:\n",
    "  selected_features.remove(col)\n",
    "\n",
    "# Process combined data\n",
    "processed_data = preprocessing(combined_df.copy(), selected_features)\n",
    "\n",
    "test_processed = processed_data.iloc[:len(test_df)]\n",
    "train_processed = processed_data.iloc[len(test_df):]"
   ]
  },
  {
   "cell_type": "markdown",
   "metadata": {},
   "source": [
    "### Testing parameters with 5-fold CV and grid search"
   ]
  },
  {
   "cell_type": "code",
   "execution_count": 33,
   "metadata": {},
   "outputs": [],
   "source": [
    "from sklearn.ensemble import RandomForestClassifier\n",
    "from sklearn.model_selection import train_test_split\n",
    "from sklearn.metrics import accuracy_score\n",
    "\n",
    "# Split the data into training and validation sets\n",
    "X_train, X_val, y_train, y_val = train_test_split(train_processed, train_prices, test_size=0.2)\n",
    "\n",
    "# Remove rows with NaN values from X_train and y_train\n",
    "X_train_clean = X_train.dropna()\n",
    "y_train_clean = y_train[X_train.index.isin(X_train_clean.index)]\n",
    "\n",
    "# Remove rows with NaN values from X_val and y_val\n",
    "X_val_clean = X_val.dropna()\n",
    "y_val_clean = y_val[X_val.index.isin(X_val_clean.index)]"
   ]
  },
  {
   "cell_type": "code",
   "execution_count": 43,
   "metadata": {},
   "outputs": [],
   "source": [
    "from sklearn.model_selection import GridSearchCV\n",
    "\n",
    "# Clean data\n",
    "X = train_processed.copy()\n",
    "y = train_prices.copy()\n",
    "\n",
    "X_clean = X.dropna()\n",
    "y_clean = y[X.index.isin(X_clean.index)]\n",
    "\n",
    "# Define the parameter grid to search\n",
    "candidates = [10, 30, 50, 100, 150, 200, 300, 400, 500]\n",
    "param_grid = {'n_estimators': candidates}\n",
    "\n",
    "# Create a RandomForestClassifier\n",
    "rf_classifier = RandomForestClassifier()\n",
    "\n",
    "# Use GridSearchCV to perform 5-way cross-validation\n",
    "grid_search = GridSearchCV(rf_classifier, param_grid, cv=5, scoring='accuracy')\n",
    "grid_search.fit(X_clean, y_clean)\n",
    "\n",
    "# Get the results of the cross-validation\n",
    "cv_results = grid_search.cv_results_"
   ]
  },
  {
   "cell_type": "code",
   "execution_count": 45,
   "metadata": {},
   "outputs": [
    {
     "data": {
      "image/png": "[encoded data removed]",
      "text/plain": [
       "<Figure size 640x480 with 1 Axes>"
      ]
     },
     "metadata": {},
     "output_type": "display_data"
    }
   ],
   "source": [
    "# Plot of accuracy vs n_estimators\n",
    "import matplotlib.pyplot as plt\n",
    "\n",
    "# Plot the relationship with lines\n",
    "plt.plot(candidates, cv_results['mean_test_score'], marker='o', linestyle='-')\n",
    "\n",
    "# Customize the plot\n",
    "plt.title('Plot of n_estimators vs accuracy')\n",
    "plt.xlabel('n_estimators')\n",
    "plt.ylabel('accuracy')\n",
    "\n",
    "# Show the plot\n",
    "plt.show()"
   ]
  },
  {
   "cell_type": "code",
   "execution_count": 47,
   "metadata": {},
   "outputs": [],
   "source": [
    "# Testing parameters, other than n_estimators\n",
    "\n",
    "# Clean data\n",
    "X = train_processed.copy()\n",
    "y = train_prices.copy()\n",
    "\n",
    "X_clean = X.dropna()\n",
    "y_clean = y[X.index.isin(X_clean.index)]\n",
    "\n",
    "# Define the parameter grid to search\n",
    "param_grid = {'n_estimators': [150],\n",
    "              'max_depth': [3, 5, None],\n",
    "              'max_features': ['sqrt', None]}\n",
    "\n",
    "# Create a RandomForestClassifier\n",
    "rf_classifier = RandomForestClassifier()\n",
    "\n",
    "# Use GridSearchCV to perform 5-way cross-validation\n",
    "grid_search = GridSearchCV(rf_classifier, param_grid, cv=5, scoring='accuracy')\n",
    "grid_search.fit(X_clean, y_clean)\n",
    "\n",
    "# Get the results of the cross-validation\n",
    "cv_results = grid_search.cv_results_"
   ]
  },
  {
   "cell_type": "code",
   "execution_count": 49,
   "metadata": {},
   "outputs": [
    {
     "name": "stdout",
     "output_type": "stream",
     "text": [
      "Accuracy: 0.3996 (+/- 0.0033) for params: {'max_depth': 3, 'max_features': 'sqrt', 'n_estimators': 150}\n",
      "Accuracy: 0.4093 (+/- 0.0046) for params: {'max_depth': 3, 'max_features': None, 'n_estimators': 150}\n",
      "Accuracy: 0.4490 (+/- 0.0046) for params: {'max_depth': 5, 'max_features': 'sqrt', 'n_estimators': 150}\n",
      "Accuracy: 0.4590 (+/- 0.0027) for params: {'max_depth': 5, 'max_features': None, 'n_estimators': 150}\n",
      "Accuracy: 0.5422 (+/- 0.0050) for params: {'max_depth': None, 'max_features': 'sqrt', 'n_estimators': 150}\n",
      "Accuracy: 0.5403 (+/- 0.0095) for params: {'max_depth': None, 'max_features': None, 'n_estimators': 150}\n"
     ]
    }
   ],
   "source": [
    "for mean_score, std_score, params in zip(cv_results['mean_test_score'], cv_results['std_test_score'], cv_results['params']):\n",
    "    print(f\"Accuracy: {mean_score:.4f} (+/- {std_score:.4f}) for params: {params}\")"
   ]
  },
  {
   "cell_type": "markdown",
   "metadata": {},
   "source": [
    "### Fit Random Forest on full train data"
   ]
  },
  {
   "cell_type": "code",
   "execution_count": 57,
   "metadata": {},
   "outputs": [
    {
     "data": {
      "text/html": [
       "<style>#sk-container-id-8 {color: black;}#sk-container-id-8 pre{padding: 0;}#sk-container-id-8 div.sk-toggleable {background-color: white;}#sk-container-id-8 label.sk-toggleable__label {cursor: pointer;display: block;width: 100%;margin-bottom: 0;padding: 0.3em;box-sizing: border-box;text-align: center;}#sk-container-id-8 label.sk-toggleable__label-arrow:before {content: \"▸\";float: left;margin-right: 0.25em;color: #696969;}#sk-container-id-8 label.sk-toggleable__label-arrow:hover:before {color: black;}#sk-container-id-8 div.sk-estimator:hover label.sk-toggleable__label-arrow:before {color: black;}#sk-container-id-8 div.sk-toggleable__content {max-height: 0;max-width: 0;overflow: hidden;text-align: left;background-color: #f0f8ff;}#sk-container-id-8 div.sk-toggleable__content pre {margin: 0.2em;color: black;border-radius: 0.25em;background-color: #f0f8ff;}#sk-container-id-8 input.sk-toggleable__control:checked~div.sk-toggleable__content {max-height: 200px;max-width: 100%;overflow: auto;}#sk-container-id-8 input.sk-toggleable__control:checked~label.sk-toggleable__label-arrow:before {content: \"▾\";}#sk-container-id-8 div.sk-estimator input.sk-toggleable__control:checked~label.sk-toggleable__label {background-color: #d4ebff;}#sk-container-id-8 div.sk-label input.sk-toggleable__control:checked~label.sk-toggleable__label {background-color: #d4ebff;}#sk-container-id-8 input.sk-hidden--visually {border: 0;clip: rect(1px 1px 1px 1px);clip: rect(1px, 1px, 1px, 1px);height: 1px;margin: -1px;overflow: hidden;padding: 0;position: absolute;width: 1px;}#sk-container-id-8 div.sk-estimator {font-family: monospace;background-color: #f0f8ff;border: 1px dotted black;border-radius: 0.25em;box-sizing: border-box;margin-bottom: 0.5em;}#sk-container-id-8 div.sk-estimator:hover {background-color: #d4ebff;}#sk-container-id-8 div.sk-parallel-item::after {content: \"\";width: 100%;border-bottom: 1px solid gray;flex-grow: 1;}#sk-container-id-8 div.sk-label:hover label.sk-toggleable__label {background-color: #d4ebff;}#sk-container-id-8 div.sk-serial::before {content: \"\";position: absolute;border-left: 1px solid gray;box-sizing: border-box;top: 0;bottom: 0;left: 50%;z-index: 0;}#sk-container-id-8 div.sk-serial {display: flex;flex-direction: column;align-items: center;background-color: white;padding-right: 0.2em;padding-left: 0.2em;position: relative;}#sk-container-id-8 div.sk-item {position: relative;z-index: 1;}#sk-container-id-8 div.sk-parallel {display: flex;align-items: stretch;justify-content: center;background-color: white;position: relative;}#sk-container-id-8 div.sk-item::before, #sk-container-id-8 div.sk-parallel-item::before {content: \"\";position: absolute;border-left: 1px solid gray;box-sizing: border-box;top: 0;bottom: 0;left: 50%;z-index: -1;}#sk-container-id-8 div.sk-parallel-item {display: flex;flex-direction: column;z-index: 1;position: relative;background-color: white;}#sk-container-id-8 div.sk-parallel-item:first-child::after {align-self: flex-end;width: 50%;}#sk-container-id-8 div.sk-parallel-item:last-child::after {align-self: flex-start;width: 50%;}#sk-container-id-8 div.sk-parallel-item:only-child::after {width: 0;}#sk-container-id-8 div.sk-dashed-wrapped {border: 1px dashed gray;margin: 0 0.4em 0.5em 0.4em;box-sizing: border-box;padding-bottom: 0.4em;background-color: white;}#sk-container-id-8 div.sk-label label {font-family: monospace;font-weight: bold;display: inline-block;line-height: 1.2em;}#sk-container-id-8 div.sk-label-container {text-align: center;}#sk-container-id-8 div.sk-container {/* jupyter's `normalize.less` sets `[hidden] { display: none; }` but bootstrap.min.css set `[hidden] { display: none !important; }` so we also need the `!important` here to be able to override the default hidden behavior on the sphinx rendered scikit-learn.org. See: https://github.com/scikit-learn/scikit-learn/issues/21755 */display: inline-block !important;position: relative;}#sk-container-id-8 div.sk-text-repr-fallback {display: none;}</style><div id=\"sk-container-id-8\" class=\"sk-top-container\"><div class=\"sk-text-repr-fallback\"><pre>RandomForestClassifier(n_estimators=500)</pre><b>In a Jupyter environment, please rerun this cell to show the HTML representation or trust the notebook. <br />On GitHub, the HTML representation is unable to render, please try loading this page with nbviewer.org.</b></div><div class=\"sk-container\" hidden><div class=\"sk-item\"><div class=\"sk-estimator sk-toggleable\"><input class=\"sk-toggleable__control sk-hidden--visually\" id=\"sk-estimator-id-8\" type=\"checkbox\" checked><label for=\"sk-estimator-id-8\" class=\"sk-toggleable__label sk-toggleable__label-arrow\">RandomForestClassifier</label><div class=\"sk-toggleable__content\"><pre>RandomForestClassifier(n_estimators=500)</pre></div></div></div></div></div>"
      ],
      "text/plain": [
       "RandomForestClassifier(n_estimators=500)"
      ]
     },
     "execution_count": 57,
     "metadata": {},
     "output_type": "execute_result"
    }
   ],
   "source": [
    "# Use all data to train\n",
    "X_train = train_processed\n",
    "y_train = train_prices\n",
    "\n",
    "# Remove rows with NaN values from X_train and y_train\n",
    "X_train_clean = X_train.dropna()\n",
    "y_train_clean = y_train[X_train.index.isin(X_train_clean.index)]\n",
    "\n",
    "# Initialize the Random Forest Classifier\n",
    "random_forest = RandomForestClassifier(n_estimators=500)\n",
    "\n",
    "# Train the classifier on the training data\n",
    "random_forest.fit(X_train_clean, y_train_clean)"
   ]
  },
  {
   "cell_type": "code",
   "execution_count": 37,
   "metadata": {},
   "outputs": [],
   "source": [
    "X_test = test_processed.copy()\n",
    "\n",
    "# Remove rows with NaN values from X_train\n",
    "X_test_clean = X_test.dropna()\n",
    "\n",
    "# Predict on the cleaned test data\n",
    "predictions = random_forest.predict(X_test_clean)\n",
    "\n",
    "# Fill back in missing predictions\n",
    "included = X_test.index.isin(X_test_clean.index)\n",
    "full_predictions = []\n",
    "pred_idx = 0\n",
    "for idx in range(len(X_test)):\n",
    "    if included[idx]:\n",
    "        full_predictions.append(predictions[pred_idx])\n",
    "        pred_idx += 1\n",
    "    else:\n",
    "        full_predictions.append(0)\n",
    "\n",
    "# Create a DataFrame for predictions\n",
    "predictions_df = pd.DataFrame({'id': X_test.index, 'price': full_predictions})"
   ]
  },
  {
   "cell_type": "code",
   "execution_count": 58,
   "metadata": {},
   "outputs": [],
   "source": [
    "from sklearn.impute import SimpleImputer\n",
    "\n",
    "X_test = test_processed.copy()\n",
    "\n",
    "# Save the original indices for later use\n",
    "original_indices = X_test.index\n",
    "\n",
    "# Impute missing values in X_test_full\n",
    "imputer = SimpleImputer(strategy='median')\n",
    "X_test_filled = pd.DataFrame(imputer.fit_transform(X_test), columns=X_test.columns)\n",
    "\n",
    "# Predict on the cleaned test data\n",
    "predictions_median = random_forest.predict(X_test_filled)\n",
    "\n",
    "predictions_median_df = pd.DataFrame({'id': original_indices, 'price': predictions_median})"
   ]
  },
  {
   "cell_type": "code",
   "execution_count": 59,
   "metadata": {},
   "outputs": [],
   "source": [
    "# Save predictions to output file\n",
    "predictions_median_df.to_csv('../predictions/rf_500_median4.csv', index=False)"
   ]
  }
 ],
 "metadata": {
  "kernelspec": {
   "display_name": "base",
   "language": "python",
   "name": "python3"
  },
  "language_info": {
   "codemirror_mode": {
    "name": "ipython",
    "version": 3
   },
   "file_extension": ".py",
   "mimetype": "text/x-python",
   "name": "python",
   "nbconvert_exporter": "python",
   "pygments_lexer": "ipython3",
   "version": "3.8.18"
  }
 },
 "nbformat": 4,
 "nbformat_minor": 2
}
