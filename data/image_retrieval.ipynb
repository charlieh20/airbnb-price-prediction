{
 "cells": [
  {
   "cell_type": "code",
   "execution_count": 2,
   "metadata": {},
   "outputs": [],
   "source": [
    "import os\n",
    "import pandas as pd\n",
    "import requests\n",
    "from io import BytesIO\n",
    "from PIL import Image\n",
    "import tqdm"
   ]
  },
  {
   "cell_type": "code",
   "execution_count": 3,
   "metadata": {},
   "outputs": [],
   "source": [
    "# Import data\n",
    "train = pd.read_csv(\"./train.csv\").sort_values('id')\n",
    "test = pd.read_csv(\"./test.csv\").sort_values('id')"
   ]
  },
  {
   "cell_type": "code",
   "execution_count": 4,
   "metadata": {},
   "outputs": [],
   "source": [
    "# Function to download and save an image\n",
    "def download_and_save_image(output_directory, url, index):\n",
    "    if not os.path.exists(os.path.join(output_directory, f\"{index}.jpg\")):\n",
    "        try:\n",
    "            response = requests.get(url)\n",
    "            img = Image.open(BytesIO(response.content))\n",
    "            img.save(os.path.join(output_directory, f\"{index}.jpg\"))\n",
    "        except Exception:\n",
    "            return\n"
   ]
  },
  {
   "cell_type": "code",
   "execution_count": null,
   "metadata": {},
   "outputs": [],
   "source": [
    "# Download and save images for each row in the training data\n",
    "output_directory = \"train_images\"\n",
    "os.makedirs(output_directory, exist_ok=True)\n",
    "for index, row in tqdm.tqdm(train.iterrows(), desc=\"Downloading Images\", total=len(train)):\n",
    "    download_and_save_image(output_directory, row['picture_url'], index)"
   ]
  },
  {
   "cell_type": "code",
   "execution_count": null,
   "metadata": {},
   "outputs": [],
   "source": [
    "# Download and save images for each row in the testing data\n",
    "output_directory = \"test_images\"\n",
    "os.makedirs(output_directory, exist_ok=True)\n",
    "for index, row in tqdm.tqdm(train.iterrows(), desc=\"Downloading Images\", total=len(test)):\n",
    "    download_and_save_image(output_directory, row['picture_url'], index)"
   ]
  }
 ],
 "metadata": {
  "kernelspec": {
   "display_name": "base",
   "language": "python",
   "name": "python3"
  },
  "language_info": {
   "codemirror_mode": {
    "name": "ipython",
    "version": 3
   },
   "file_extension": ".py",
   "mimetype": "text/x-python",
   "name": "python",
   "nbconvert_exporter": "python",
   "pygments_lexer": "ipython3",
   "version": "3.8.18"
  }
 },
 "nbformat": 4,
 "nbformat_minor": 2
}
